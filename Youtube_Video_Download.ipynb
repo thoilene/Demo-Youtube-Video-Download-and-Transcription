{
  "nbformat": 4,
  "nbformat_minor": 0,
  "metadata": {
    "colab": {
      "provenance": []
    },
    "kernelspec": {
      "name": "python3",
      "display_name": "Python 3"
    },
    "language_info": {
      "name": "python"
    }
  },
  "cells": [
    {
      "cell_type": "markdown",
      "source": [
        "# Demo - Download video from Youtube and Extract audio from video"
      ],
      "metadata": {
        "id": "dEAHLj0hj99a"
      }
    },
    {
      "cell_type": "markdown",
      "source": [
        "## Install moviepy"
      ],
      "metadata": {
        "id": "9gbeSrb6i5mp"
      }
    },
    {
      "cell_type": "code",
      "source": [
        "!pip install moviepy"
      ],
      "metadata": {
        "colab": {
          "base_uri": "https://localhost:8080/"
        },
        "id": "lQlycIg4ctmF",
        "outputId": "459e3c27-29a3-477f-c093-2998b54996e7"
      },
      "execution_count": 3,
      "outputs": [
        {
          "output_type": "stream",
          "name": "stdout",
          "text": [
            "Requirement already satisfied: moviepy in /usr/local/lib/python3.11/dist-packages (1.0.3)\n",
            "Requirement already satisfied: decorator<5.0,>=4.0.2 in /usr/local/lib/python3.11/dist-packages (from moviepy) (4.4.2)\n",
            "Requirement already satisfied: tqdm<5.0,>=4.11.2 in /usr/local/lib/python3.11/dist-packages (from moviepy) (4.67.1)\n",
            "Requirement already satisfied: requests<3.0,>=2.8.1 in /usr/local/lib/python3.11/dist-packages (from moviepy) (2.32.3)\n",
            "Requirement already satisfied: proglog<=1.0.0 in /usr/local/lib/python3.11/dist-packages (from moviepy) (0.1.11)\n",
            "Requirement already satisfied: numpy>=1.17.3 in /usr/local/lib/python3.11/dist-packages (from moviepy) (2.0.2)\n",
            "Requirement already satisfied: imageio<3.0,>=2.5 in /usr/local/lib/python3.11/dist-packages (from moviepy) (2.37.0)\n",
            "Requirement already satisfied: imageio-ffmpeg>=0.2.0 in /usr/local/lib/python3.11/dist-packages (from moviepy) (0.6.0)\n",
            "Requirement already satisfied: pillow>=8.3.2 in /usr/local/lib/python3.11/dist-packages (from imageio<3.0,>=2.5->moviepy) (11.1.0)\n",
            "Requirement already satisfied: charset-normalizer<4,>=2 in /usr/local/lib/python3.11/dist-packages (from requests<3.0,>=2.8.1->moviepy) (3.4.1)\n",
            "Requirement already satisfied: idna<4,>=2.5 in /usr/local/lib/python3.11/dist-packages (from requests<3.0,>=2.8.1->moviepy) (3.10)\n",
            "Requirement already satisfied: urllib3<3,>=1.21.1 in /usr/local/lib/python3.11/dist-packages (from requests<3.0,>=2.8.1->moviepy) (2.3.0)\n",
            "Requirement already satisfied: certifi>=2017.4.17 in /usr/local/lib/python3.11/dist-packages (from requests<3.0,>=2.8.1->moviepy) (2025.1.31)\n"
          ]
        }
      ]
    },
    {
      "cell_type": "markdown",
      "source": [
        "## Install yt-dlp from github"
      ],
      "metadata": {
        "id": "yeJs9yd2jGfd"
      }
    },
    {
      "cell_type": "code",
      "source": [
        "!pip install git+https://github.com/yt-dlp/yt-dlp.git -q"
      ],
      "metadata": {
        "colab": {
          "base_uri": "https://localhost:8080/"
        },
        "id": "2B20VTYYd77_",
        "outputId": "77dccc01-ec1a-4db0-8860-ca2e9537c117"
      },
      "execution_count": 9,
      "outputs": [
        {
          "output_type": "stream",
          "name": "stdout",
          "text": [
            "  Installing build dependencies ... \u001b[?25l\u001b[?25hdone\n",
            "  Getting requirements to build wheel ... \u001b[?25l\u001b[?25hdone\n",
            "  Preparing metadata (pyproject.toml) ... \u001b[?25l\u001b[?25hdone\n",
            "  Building wheel for yt-dlp (pyproject.toml) ... \u001b[?25l\u001b[?25hdone\n"
          ]
        }
      ]
    },
    {
      "cell_type": "markdown",
      "source": [
        "## Download video from Youtube and Extract audio from video\n"
      ],
      "metadata": {
        "id": "qXVtVSUkaK2Q"
      }
    },
    {
      "cell_type": "code",
      "source": [
        "import yt_dlp\n",
        "from moviepy.editor import VideoFileClip\n",
        "import logging\n",
        "from pathlib import Path\n",
        "import os\n",
        "\n",
        "# Configure logging\n",
        "logging.basicConfig(level=logging.INFO, format='%(asctime)s - %(levelname)s - %(message)s')\n",
        "\n",
        "def download_youtube_video(url: str, output_dir: str = \"downloads\", video_name=\"video\") -> str:\n",
        "    \"\"\"\n",
        "    Download YouTube video using yt-dlp with error handling and format selection\n",
        "    Returns path to downloaded video file\n",
        "    \"\"\"\n",
        "    Path(output_dir).mkdir(parents=True, exist_ok=True)\n",
        "\n",
        "    ydl_opts = {\n",
        "        'format': 'bestvideo[ext=mp4]+bestaudio[ext=m4a]/best[ext=mp4]',\n",
        "        'merge_output_format': 'mp4',\n",
        "        'outtmpl': f'{output_dir}/{video_name}.mp4',\n",
        "        'restrictfilenames': True,\n",
        "        'quiet': True,\n",
        "        'no_warnings': True,\n",
        "        'logger': logging.getLogger('yt-dlp'),\n",
        "        'concurrent_fragment_downloads': 3,\n",
        "        'retries': 5,\n",
        "        'fragment_retries': 5,\n",
        "        'extractor_retries': 3,\n",
        "        'socket_timeout': 30,\n",
        "        'http_headers': {\n",
        "            'User-Agent': 'Mozilla/5.0 (Windows NT 10.0; Win64; x64)',\n",
        "            'Accept': 'text/html,application/xhtml+xml,application/xml;q=0.9,*/*;q=0.8',\n",
        "            'Accept-Language': 'en-US,en;q=0.5',\n",
        "            'Accept-Encoding': 'gzip, deflate',\n",
        "        }\n",
        "    }\n",
        "\n",
        "    try:\n",
        "        with yt_dlp.YoutubeDL(ydl_opts) as ydl:\n",
        "            info_dict = ydl.extract_info(url, download=False)\n",
        "            final_path = Path(output_dir) / f\"{video_name}.mp4\"\n",
        "\n",
        "            if final_path.exists():\n",
        "                logging.warning(f\"File already exists: {final_path}\")\n",
        "                return str(final_path)\n",
        "\n",
        "            logging.info(f\"Downloading: {info_dict['title']} [ID: {info_dict['id']}]\")\n",
        "            ydl.download([url])\n",
        "\n",
        "            # Verify successful download\n",
        "            if not final_path.exists():\n",
        "                raise FileNotFoundError(\"Downloaded file not found - possible download failure\")\n",
        "\n",
        "            return str(final_path)\n",
        "\n",
        "    except Exception as e:\n",
        "        logging.error(f\"Download failed: {str(e)}\")\n",
        "        raise\n",
        "\n",
        "def extract_audio(video_path: str, audio_name:str, output_dir: str = \"downloads\", output_format: str = 'wav', bitrate: str = '320k') -> str:\n",
        "    \"\"\"\n",
        "    Extract audio using moviepy with high quality settings\n",
        "    Returns path to extracted audio file\n",
        "    \"\"\"\n",
        "    audio_output = Path(f\"{output_dir}/{audio_name}\").with_suffix(f'.{output_format}')\n",
        "\n",
        "    try:\n",
        "        with VideoFileClip(video_path) as video:\n",
        "            if not video.audio:\n",
        "                raise ValueError(\"No audio track detected in video file\")\n",
        "\n",
        "            # Audio settings\n",
        "            if output_format == 'wav':\n",
        "                audio = video.audio\n",
        "                audio.write_audiofile(\n",
        "                    str(audio_output),\n",
        "                    codec='pcm_s16le',\n",
        "                    fps=44100,\n",
        "                    ffmpeg_params=['-ac', '2', '-ar', '44100']\n",
        "                )\n",
        "            else:\n",
        "                video.audio.write_audiofile(\n",
        "                    str(audio_output),\n",
        "                    codec='mp3' if output_format == 'mp3' else 'aac',\n",
        "                    bitrate=bitrate\n",
        "                )\n",
        "\n",
        "        return str(audio_output)\n",
        "\n",
        "    except Exception as e:\n",
        "        logging.error(f\"Audio extraction failed: {str(e)}\")\n",
        "        raise\n",
        "    finally:\n",
        "        if 'video' in locals():\n",
        "            video.close()\n",
        "\n",
        "def main():\n",
        "    video_url = \"https://www.youtube.com/watch?v=vsbmrmHuZQ4\"\n",
        "\n",
        "    try:\n",
        "        # Download video\n",
        "        video_file = download_youtube_video(video_url, video_name=\"Trump_video\", output_dir=\"/content/drive/MyDrive/data/youtube_downloads\")\n",
        "        logging.info(f\"Successfully downloaded: {video_file}\")\n",
        "\n",
        "        # Extract audio (WAV format by default)\n",
        "        audio_file = extract_audio(video_file, audio_name=\"Trump_audio\", output_dir=\"/content/drive/MyDrive/data/youtube_downloads\", output_format='wav')\n",
        "        logging.info(f\"Successfully extracted audio: {audio_file}\")\n",
        "\n",
        "        # Optional: Remove original video\n",
        "        # os.remove(video_file)\n",
        "\n",
        "    except Exception as e:\n",
        "        logging.critical(f\"Processing failed: {str(e)}\")\n",
        "        exit(1)\n",
        "\n",
        "if __name__ == \"__main__\":\n",
        "    main()"
      ],
      "metadata": {
        "colab": {
          "base_uri": "https://localhost:8080/"
        },
        "id": "RYVgZaaEdnxg",
        "outputId": "3f0dec9e-71cb-4a50-d927-7b09ad5a7337"
      },
      "execution_count": 16,
      "outputs": [
        {
          "output_type": "stream",
          "name": "stdout",
          "text": [
            "MoviePy - Writing audio in /content/drive/MyDrive/data/youtube_downloads/Trump_audio.wav\n"
          ]
        },
        {
          "output_type": "stream",
          "name": "stderr",
          "text": []
        },
        {
          "output_type": "stream",
          "name": "stdout",
          "text": [
            "MoviePy - Done.\n"
          ]
        }
      ]
    }
  ]
}