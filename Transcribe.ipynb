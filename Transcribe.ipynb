{
  "nbformat": 4,
  "nbformat_minor": 0,
  "metadata": {
    "colab": {
      "provenance": []
    },
    "kernelspec": {
      "name": "python3",
      "display_name": "Python 3"
    },
    "language_info": {
      "name": "python"
    }
  },
  "cells": [
    {
      "cell_type": "markdown",
      "source": [
        "# Demo - Transcription of audio from Youtube video"
      ],
      "metadata": {
        "id": "mHUs4mU7CPsi"
      }
    },
    {
      "cell_type": "markdown",
      "source": [
        "## Install the Whisper Code"
      ],
      "metadata": {
        "id": "iplMV7cIxowG"
      }
    },
    {
      "cell_type": "code",
      "source": [
        "! pip install git+https://github.com/openai/whisper.git -q"
      ],
      "metadata": {
        "colab": {
          "base_uri": "https://localhost:8080/"
        },
        "id": "S8-N96odCJOP",
        "outputId": "69ba2807-4a92-43d9-fd83-efe2a2a8ef4a"
      },
      "execution_count": null,
      "outputs": [
        {
          "output_type": "stream",
          "name": "stdout",
          "text": [
            "  Installing build dependencies ... \u001b[?25l\u001b[?25hdone\n",
            "  Getting requirements to build wheel ... \u001b[?25l\u001b[?25hdone\n",
            "  Preparing metadata (pyproject.toml) ... \u001b[?25l\u001b[?25hdone\n",
            "\u001b[2K   \u001b[90m━━━━━━━━━━━━━━━━━━━━━━━━━━━━━━━━━━━━━━━━\u001b[0m \u001b[32m1.2/1.2 MB\u001b[0m \u001b[31m15.9 MB/s\u001b[0m eta \u001b[36m0:00:00\u001b[0m\n",
            "\u001b[2K   \u001b[90m━━━━━━━━━━━━━━━━━━━━━━━━━━━━━━━━━━━━━━━━\u001b[0m \u001b[32m363.4/363.4 MB\u001b[0m \u001b[31m1.6 MB/s\u001b[0m eta \u001b[36m0:00:00\u001b[0m\n",
            "\u001b[2K   \u001b[90m━━━━━━━━━━━━━━━━━━━━━━━━━━━━━━━━━━━━━━━━\u001b[0m \u001b[32m13.8/13.8 MB\u001b[0m \u001b[31m64.6 MB/s\u001b[0m eta \u001b[36m0:00:00\u001b[0m\n",
            "\u001b[2K   \u001b[90m━━━━━━━━━━━━━━━━━━━━━━━━━━━━━━━━━━━━━━━━\u001b[0m \u001b[32m24.6/24.6 MB\u001b[0m \u001b[31m61.4 MB/s\u001b[0m eta \u001b[36m0:00:00\u001b[0m\n",
            "\u001b[2K   \u001b[90m━━━━━━━━━━━━━━━━━━━━━━━━━━━━━━━━━━━━━━━━\u001b[0m \u001b[32m883.7/883.7 kB\u001b[0m \u001b[31m39.0 MB/s\u001b[0m eta \u001b[36m0:00:00\u001b[0m\n",
            "\u001b[2K   \u001b[90m━━━━━━━━━━━━━━━━━━━━━━━━━━━━━━━━━━━━━━━━\u001b[0m \u001b[32m664.8/664.8 MB\u001b[0m \u001b[31m2.9 MB/s\u001b[0m eta \u001b[36m0:00:00\u001b[0m\n",
            "\u001b[2K   \u001b[90m━━━━━━━━━━━━━━━━━━━━━━━━━━━━━━━━━━━━━━━━\u001b[0m \u001b[32m211.5/211.5 MB\u001b[0m \u001b[31m5.8 MB/s\u001b[0m eta \u001b[36m0:00:00\u001b[0m\n",
            "\u001b[2K   \u001b[90m━━━━━━━━━━━━━━━━━━━━━━━━━━━━━━━━━━━━━━━━\u001b[0m \u001b[32m56.3/56.3 MB\u001b[0m \u001b[31m12.8 MB/s\u001b[0m eta \u001b[36m0:00:00\u001b[0m\n",
            "\u001b[2K   \u001b[90m━━━━━━━━━━━━━━━━━━━━━━━━━━━━━━━━━━━━━━━━\u001b[0m \u001b[32m127.9/127.9 MB\u001b[0m \u001b[31m7.3 MB/s\u001b[0m eta \u001b[36m0:00:00\u001b[0m\n",
            "\u001b[2K   \u001b[90m━━━━━━━━━━━━━━━━━━━━━━━━━━━━━━━━━━━━━━━━\u001b[0m \u001b[32m207.5/207.5 MB\u001b[0m \u001b[31m6.1 MB/s\u001b[0m eta \u001b[36m0:00:00\u001b[0m\n",
            "\u001b[2K   \u001b[90m━━━━━━━━━━━━━━━━━━━━━━━━━━━━━━━━━━━━━━━━\u001b[0m \u001b[32m21.1/21.1 MB\u001b[0m \u001b[31m81.5 MB/s\u001b[0m eta \u001b[36m0:00:00\u001b[0m\n",
            "\u001b[?25h  Building wheel for openai-whisper (pyproject.toml) ... \u001b[?25l\u001b[?25hdone\n"
          ]
        }
      ]
    },
    {
      "cell_type": "markdown",
      "source": [
        "## Load the ML Model"
      ],
      "metadata": {
        "id": "9hDAxbM3Dpff"
      }
    },
    {
      "cell_type": "code",
      "source": [
        "import whisper\n",
        "\n",
        "model_medium = whisper.load_model(\"medium\")\n",
        "#model_large = whisper.load_model(\"large\")"
      ],
      "metadata": {
        "id": "Z-H8Qvj3Du98"
      },
      "execution_count": 9,
      "outputs": []
    },
    {
      "cell_type": "markdown",
      "source": [
        "## Function to convert audio to text using Whisper"
      ],
      "metadata": {
        "id": "MJUXfFi4EqYq"
      }
    },
    {
      "cell_type": "code",
      "source": [
        "def whisper_convert_audio_to_text(audio_path, model, lang=\"en\"):\n",
        "  audio = whisper.load_audio(audio_path)\n",
        "  #audio = whisper.pad_or_trim(audio)\n",
        "  decode_options = {\"language\": lang}\n",
        "  result = model.transcribe(audio, fp16=False, **decode_options)\n",
        "  return result"
      ],
      "metadata": {
        "id": "GmLDmEeqFqr8"
      },
      "execution_count": 10,
      "outputs": []
    },
    {
      "cell_type": "markdown",
      "source": [
        "## Transcription from audio to text"
      ],
      "metadata": {
        "id": "eprHQzt1nDiD"
      }
    },
    {
      "cell_type": "code",
      "source": [
        "result = whisper_convert_audio_to_text(audio=\"/content/drive/MyDrive/data/youtube_downloads/Trump_audio.wav\", model=model_medium, lang=\"en\")\n",
        "result_txt = result[\"text\"]\n",
        "print(result_txt)\n",
        "\n",
        "def main():\n",
        "\n",
        "    audio_path=\"/content/drive/MyDrive/data/youtube_downloads/Trump_audio.wav\"\n",
        "\n",
        "    try:\n",
        "       result = whisper_convert_audio_to_text(audio_path=audio_path, model=model_medium, lang=\"en\")\n",
        "       result_txt = result[\"text\"]\n",
        "       print(result_txt)\n",
        "\n",
        "    except Exception as e:\n",
        "       print(f\"Processing failed: {str(e)}\")\n",
        "       exit(1)\n",
        "\n",
        "if __name__ == \"__main__\":\n",
        "    main()"
      ],
      "metadata": {
        "colab": {
          "base_uri": "https://localhost:8080/"
        },
        "id": "8GaSdlS9k_xZ",
        "outputId": "a6f71d4c-2730-4587-b3eb-75595fed7d38"
      },
      "execution_count": 11,
      "outputs": [
        {
          "output_type": "stream",
          "name": "stdout",
          "text": [
            " Thank you very much. It's a real honor to have the highly respected, the great Prime Minister of the Kingdom of Norway with us today, who, as you know, has been doing a fantastic job and truly respected throughout the world as a leader. And thank you very much for being here. We appreciate it. And we're going to be having a meeting in the Oval Office in a little while, where you'll be invited back and you can ask some questions. It's also a pleasure to have my friend, who did such a good job in NATO. My great friend, right? So you really did. We started off, they had no money, and they ended up having a lot of money after we said, you got to pay, you got to pay up. But you did a fantastic job. And thank you very much. And I'm glad you're here. Glad we meet each other again under these circumstances. So we'll be meeting in a little while at the Oval Office. And if you have maybe one or two questions, we'll do it now. And after that, we'll go to the Oval. Mr. President, on Russia, do you still believe that Putin is serious about peace, given the events overnight in Ukraine? And if that bombing doesn't end, are you considering new sanctions on Russia? So we are thinking that very strongly that they both want peace, but they have to get to the table. We're waiting a long time. They have to get them to the table. And I think we're going to get peace. We want to save 5,000 young people. I used to say 2,500. I never said I would say 5,000. We have, Mr. Prime Minister, we have about 5,000 young people a week that are dying in that ridiculous war. And, you know, I started out because I didn't like all the money that we were paying. And then I realized how many people were dying. And that's by far the more important element right now. We can save thousands of people. And I don't like that it takes long at all, but I think they both want to make peace. I do believe so. There's a lot of hatred there. There's a lot of very bad blood, a lot of disgust. But I think we're going to I hope we're going to get there for the sake of a lot of young people that are dying. The Press. Do you have a deadline for when the parties meet? I have my own deadline. I have my own deadline and we want it to be fast. And the Prime Minister is helping us. He wants it to be fast, too. And I think everybody in this, you know, at this time in NATO, they want to see this thing happen. So we have a deadline. And after that, we have a we're going to have a very much different attitude. But I think that has a very good chance of getting done. Mr. President, what can Norway do to prove that they're an important ally to the U.S.? What can Norway do to protect us? Just keep doing what they're doing. We have a very good relationship with Norway. Great leader, great people. I know many of the people in Norway and it's truly a it's an incredible country. So all they have to do is keep doing what they're doing, I think is probably the best answer I can give. Yeah. As you pointed out, the former Secretary General of NATO is here. How important is the NATO defense alliance? Mr. President, is it sacrosanct from your perspective? Well, it's a very interesting question. It's certainly very important for Europe. And I think without us, it wouldn't be as nearly as powerful. And as the former secretary general, who did a great job, can tell you, we played, I played when I was there a very big role in making sure that NATO is funded by the 28. At that time, they had 28 countries, including us, because many of the countries weren't paid. And they ended up being paid, you would say. And the secretary general was very, very nice about it, as far as I was concerned. Other presidents went in, they made a speech and they left. And that kept going on. And, you know, in the meantime, they had no money. And the United States was paying far more than its fair share. You could say that they were paying. I actually said sometimes it looked like 100 percent and it was unfair. And the two of us worked very well together and we took care of the situation. The Press. The United States actually has a trade surplus with Norway. Are you going to be looking into that and see which of the countries are actually in a trade surplus? Yeah, well, with the United States, almost everybody has a surplus. It's really an amazing phenomenon. Now, there's a surplus of a couple of billion dollars, I think you have with it. I congratulate you. That's very good. We got to get a little bit of that for ourselves, maybe. But they do have a surplus. Norway has a surplus. The Press. In the current tariff situation, analysts have pointed out that the U.S. actually need allies. Do you consider Norway as a possible ally in the situation? I think Norway has always been an ally. They've been somebody we've been very close to, very friendly with. Maybe more so now with me than other people. But I think Norway has always been a great ally. Yeah. It's always been a friend. That's where it's a very strange question, actually, because the U.S. is our lead ally and we build on a relationship we will talk about now, Mr. President. But it's of high relevance. And I'm very happy that we have Secretary of State and Secretary of Defense. So this is a very strong tie. But it was a question about the ally in the tariff situation specifically. Tariff situation? Yes. Well, that's we're talking about a little bit different subject than we're talking about a different type of ally. Now, in this case, he would be very much inclined to be an ally of Norway because he wants to make the best business deal possible. And Norway and the Norwegians are great business people. They're great traders. They're great. Very smart nation. Very well managed nation. Has been for a long time, and in particular now, with this leadership. But we'll be talking about trade and other things. And I think we're going to come to a conclusion very quickly. Mr. Prime Minister, I was wondering whether you think that Donald Trump, for example, he deserves to be nominated for a Nobel Peace Prize? Well, I salute President Trump for having been taking very important initiatives to get this conflict towards an end, which both parties deserve. We need to have a ceasefire, save lives, and move towards something which is more secure for Europe, for the people concerned. And on that, we work together. And I look forward to, you know, going into some details because we are at the critical moment. On that price, you know, that is a committee taking care of that, which is completely working on its own terms, and I cannot comment on that. Mr. President. But thank you very much for that question. I like that question. Yeah, please. A question on China. Can you clarify with whom the U.S. is speaking with China? And they're saying it's big news that trade talks are happening. Well, they had a meeting this morning, so I can't tell you. It doesn't matter who they is. We may reveal it later. But they had meetings this morning, and we've been meeting with China. And so I think you have, Jeff, as usual. I think you have your reporting wrong. Thank you very much. We'll see you. We'll see you inside. Thank you. Thank you. Thank you. Everybody else. Thank you. Thank you. Thank you. Thank you. Thank you. Thank you. Thank you. I would go. We'll all go together to Norway. I want to go skiing. I love Norway. I love Norway. Beautiful. And beautiful people. Thank you. Thanks, guys. Okay. Thank you.\n"
          ]
        }
      ]
    },
    {
      "cell_type": "markdown",
      "source": [
        " Thank you very much. It's a real honor to have the highly respected, the great Prime Minister of the Kingdom of Norway with us today, who, as you know, has been doing a fantastic job and truly respected throughout the world as a leader. And thank you very much for being here. We appreciate it. And we're going to be having a meeting in the Oval Office in a little while, where you'll be invited back and you can ask some questions. It's also a pleasure to have my friend, who did such a good job in NATO. My great friend, right? So you really did. We started off, they had no money, and they ended up having a lot of money after we said, you got to pay, you got to pay up. But you did a fantastic job. And thank you very much. And I'm glad you're here. Glad we meet each other again under these circumstances. So we'll be meeting in a little while at the Oval Office. And if you have maybe one or two questions, we'll do it now. And after that, we'll go to the Oval. Mr. President, on Russia, do you still believe that Putin is serious about peace, given the events overnight in Ukraine? And if that bombing doesn't end, are you considering new sanctions on Russia? So we are thinking that very strongly that they both want peace, but they have to get to the table. We're waiting a long time. They have to get them to the table. And I think we're going to get peace. We want to save 5,000 young people. I used to say 2,500. I never said I would say 5,000. We have, Mr. Prime Minister, we have about 5,000 young people a week that are dying in that ridiculous war. And, you know, I started out because I didn't like all the money that we were paying. And then I realized how many people were dying. And that's by far the more important element right now. We can save thousands of people. And I don't like that it takes long at all, but I think they both want to make peace. I do believe so. There's a lot of hatred there. There's a lot of very bad blood, a lot of disgust. But I think we're going to I hope we're going to get there for the sake of a lot of young people that are dying. The Press. Do you have a deadline for when the parties meet? I have my own deadline. I have my own deadline and we want it to be fast. And the Prime Minister is helping us. He wants it to be fast, too. And I think everybody in this, you know, at this time in NATO, they want to see this thing happen. So we have a deadline. And after that, we have a we're going to have a very much different attitude. But I think that has a very good chance of getting done. Mr. President, what can Norway do to prove that they're an important ally to the U.S.? What can Norway do to protect us? Just keep doing what they're doing. We have a very good relationship with Norway. Great leader, great people. I know many of the people in Norway and it's truly a it's an incredible country. So all they have to do is keep doing what they're doing, I think is probably the best answer I can give. Yeah. As you pointed out, the former Secretary General of NATO is here. How important is the NATO defense alliance? Mr. President, is it sacrosanct from your perspective? Well, it's a very interesting question. It's certainly very important for Europe. And I think without us, it wouldn't be as nearly as powerful. And as the former secretary general, who did a great job, can tell you, we played, I played when I was there a very big role in making sure that NATO is funded by the 28. At that time, they had 28 countries, including us, because many of the countries weren't paid. And they ended up being paid, you would say. And the secretary general was very, very nice about it, as far as I was concerned. Other presidents went in, they made a speech and they left. And that kept going on. And, you know, in the meantime, they had no money. And the United States was paying far more than its fair share. You could say that they were paying. I actually said sometimes it looked like 100 percent and it was unfair. And the two of us worked very well together and we took care of the situation. The Press. The United States actually has a trade surplus with Norway. Are you going to be looking into that and see which of the countries are actually in a trade surplus? Yeah, well, with the United States, almost everybody has a surplus. It's really an amazing phenomenon. Now, there's a surplus of a couple of billion dollars, I think you have with it. I congratulate you. That's very good. We got to get a little bit of that for ourselves, maybe. But they do have a surplus. Norway has a surplus. The Press. In the current tariff situation, analysts have pointed out that the U.S. actually need allies. Do you consider Norway as a possible ally in the situation? I think Norway has always been an ally. They've been somebody we've been very close to, very friendly with. Maybe more so now with me than other people. But I think Norway has always been a great ally. Yeah. It's always been a friend. That's where it's a very strange question, actually, because the U.S. is our lead ally and we build on a relationship we will talk about now, Mr. President. But it's of high relevance. And I'm very happy that we have Secretary of State and Secretary of Defense. So this is a very strong tie. But it was a question about the ally in the tariff situation specifically. Tariff situation? Yes. Well, that's we're talking about a little bit different subject than we're talking about a different type of ally. Now, in this case, he would be very much inclined to be an ally of Norway because he wants to make the best business deal possible. And Norway and the Norwegians are great business people. They're great traders. They're great. Very smart nation. Very well managed nation. Has been for a long time, and in particular now, with this leadership. But we'll be talking about trade and other things. And I think we're going to come to a conclusion very quickly. Mr. Prime Minister, I was wondering whether you think that Donald Trump, for example, he deserves to be nominated for a Nobel Peace Prize? Well, I salute President Trump for having been taking very important initiatives to get this conflict towards an end, which both parties deserve. We need to have a ceasefire, save lives, and move towards something which is more secure for Europe, for the people concerned. And on that, we work together. And I look forward to, you know, going into some details because we are at the critical moment. On that price, you know, that is a committee taking care of that, which is completely working on its own terms, and I cannot comment on that. Mr. President. But thank you very much for that question. I like that question. Yeah, please. A question on China. Can you clarify with whom the U.S. is speaking with China? And they're saying it's big news that trade talks are happening. Well, they had a meeting this morning, so I can't tell you. It doesn't matter who they is. We may reveal it later. But they had meetings this morning, and we've been meeting with China. And so I think you have, Jeff, as usual. I think you have your reporting wrong. Thank you very much. We'll see you. We'll see you inside. Thank you. Thank you. Thank you. Everybody else. Thank you. Thank you. Thank you. Thank you. Thank you. Thank you. Thank you. I would go. We'll all go together to Norway. I want to go skiing. I love Norway. I love Norway. Beautiful. And beautiful people. Thank you. Thanks, guys. Okay. Thank you."
      ],
      "metadata": {
        "id": "KgRO7p6q1yw2"
      }
    }
  ]
}